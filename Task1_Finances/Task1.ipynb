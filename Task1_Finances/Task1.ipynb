
Open In Colab
Analyze a Large Dataset of Fraud in Financial Payment Services

from google.colab import drive
drive.mount('/content/drive')
     
Mounted at /content/drive
Step 1. Ensure that you have the dataset file named transactions.csv in the current directory.

The dataset is a subset of https://www.kaggle.com/ealaxi/paysim1/version/2 which was originally generated as part of the following research:

E. A. Lopez-Rojas , A. Elmir, and S. Axelsson. "PaySim: A financial mobile money simulator for fraud detection". In: The 28th European Modeling and Simulation Symposium-EMSS, Larnaca, Cyprus. 2016

Step 1. Ensure that you have the dataset file named transactions.csv in the current directory.

The dataset is a subset of https://www.kaggle.com/ealaxi/paysim1/version/2 which was originally generated as part of the following research:

E. A. Lopez-Rojas , A. Elmir, and S. Axelsson. "PaySim: A financial mobile money simulator for fraud detection". In: The 28th European Modeling and Simulation Symposium-EMSS, Larnaca, Cyprus. 2016

Step 2. Complete the following exercises.

Read the dataset (transactions.csv) as a Pandas dataframe. Note that the first row of the CSV contains the column names.

Return the column names as a list from the dataframe.

Return the first k rows from the dataframe.

Return a random sample of k rows from the dataframe.

Return a list of the unique transaction types.

Return a Pandas series of the top 10 transaction destinations with frequencies.

Return all the rows from the dataframe for which fraud was detected.

Bonus. Return a dataframe that contains the number of distinct destinations that each source has interacted with to, sorted in descending order. You will find groupby and agg useful. The predefined aggregate functions are under pandas.core.groupby.GroupBy.*. See the left hand column.

Use the empty cell to test the exercises. If you modify the original df, you can rerun the cell containing exercise_0.


import pandas as pd
import matplotlib.pyplot as plt

def exercise_0(file):
    return pd.read_csv(file)

def exercise_1(df):
    return list(df)

def exercise_2(df, k):
    return df.head(k)

def exercise_3(df, k):
    return df.sample(n=k)

def exercise_4(df):
    return df['type'].unique()

def exercise_5(df):
    return df['nameDest'].value_counts().head(10)

def exercise_6(df):
    return df[df['isFraud'] == 1]

def exercise_7(df):
    df1 = df.groupby('nameOrig')['nameDest'].agg(['nunique'])
    df1.sort_values(by=('nunique'), ascending=False, inplace=True)
    return df1

def visual_1(df):
    pass

def visual_2(df):
    pass

def exercise_custom(df):
    pass

def visual_custom(df):
    pass
     

df = exercise_0('/content/transactions.csv')
     

exercise_1(df)
exercise_2(df, 6)
exercise_3(df, 4)
exercise_4(df)
exercise_5(df)
exercise_6(df)
exercise_7(df)
     
nunique
nameOrig	
C1000039823	1
C361942456	1
C362080495	1
C362071298	1
C36206248	1
...	...
C1647783876	1
C1647796148	1
C1647799261	1
C1647882506	1
C999983733	1
69858 rows × 1 columns

Create graphs for the following.

Transaction types bar chart, Transaction types split by fraud bar chart Origin account balance delta v. Destination account balance delta scatter plot for Cash Out transactions Ensure that the graphs have the following:

Title Labeled Axes The function plot the graph and then return a string containing a short description explaining the relevance of the chart.


def visual_1(df):
    def transaction_counts(df):
        return df['type'].value_counts()
    def transaction_counts_split_by_fraud(df):
        return df.groupby(by=['type', 'isFraud']).size()

    fig, axs = plt.subplots(2, figsize=(6,10))
    transaction_counts(df).plot(ax=axs[0], kind='bar')
    axs[0].set_title('Frequency of Transactions')
    axs[0].set_xlabel('Transaction Type')
    axs[0].set_ylabel('Occurrence')
    transaction_counts_split_by_fraud(df).plot(ax=axs[1], kind='bar')
    axs[1].set_title('Frequency of Transactions, Split by Fraud')
    axs[1].set_xlabel('Transaction Type, Fraud')
    axs[1].set_ylabel('Occurrence')
    fig.suptitle('Transaction Types')
    fig.tight_layout(rect=[0, 0.03, 1, 0.95])
    for ax in axs:
      for p in ax.patches:
          ax.annotate(p.get_height(), (p.get_x(), p.get_height()))
    return 'Given the frequencies of transactions as displayed on the chart '\
           'available data, it can be seen here that fraudulent '\
           'activity is only seen on CASH_OUT and TRANSFER transactions. '\


visual_1(df)
     
'Given the frequencies of transactions as displayed on the chart available data, it can be seen here that fraudulent activity is only seen on CASH_OUT and TRANSFER transactions. '


def visual_2(df):
    def query(df):
        df['Origin Delta'] = df['oldbalanceOrg'] - df['newbalanceOrig']
        df['Destination Delta'] = df['oldbalanceDest'] - df['newbalanceDest']
        return df[df['type']=='CASH_OUT']
    plot = query(df).plot.scatter(x='Origin Delta',y='Destination Delta')
    plot.set_title('Source v. Destination Balance Delta for CASH OUT transactions')
    plot.set_xlim(left=-1e3, right=1e3)
    plot.set_ylim(bottom=-1e3, top=1e3)
    return 'A cash out occurs when a partipant withdraws money. It is reassuring '\
           'that only two of the four quadrants have activity, as the contrary '\
           'would indicate something wrong with the dataset. The y=-x line is '\
           'particularly interesting as it indicates instant settlement.'

visual_2(df)
     
'A cash out occurs when a partipant withdraws money. It is reassuring that only two of the four quadrants have activity, as the contrary would indicate something wrong with the dataset. The y=-x line is particularly interesting as it indicates instant settlement.'


def exercise_custom(df):
    return df['oldbalanceOrg', 'newbalanceOrig'].value_count()

def visual_custom(df):
    plot = df.plot.scatter(x='oldbalanceOrg',y='newbalanceOrig')
    plot.set_title('Old v. New balance')
    plot.set_xlim(left=-1e3, right=1e3)
    plot.set_ylim(bottom=-1e3, top=1e3)
    return "This is to compare the rate of balance change"

visual_custom(df)
     
'This is to compare the rate of balance change'
