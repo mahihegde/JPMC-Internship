{
  "nbformat": 4,
  "nbformat_minor": 0,
  "metadata": {
    "colab": {
      "provenance": []
    },
    "kernelspec": {
      "name": "python3",
      "display_name": "Python 3"
    },
    "language_info": {
      "name": "python"
    }
  },
  "cells": [
    {
      "cell_type": "code",
      "source": [
        "from google.colab import drive\n",
        "drive.mount('/content/drive')"
      ],
      "metadata": {
        "colab": {
          "base_uri": "https://localhost:8080/"
        },
        "id": "79cypKGVhIL0",
        "outputId": "337922f3-fb67-4d29-dc50-eca1a1a18562"
      },
      "execution_count": null,
      "outputs": [
        {
          "output_type": "stream",
          "name": "stdout",
          "text": [
            "Mounted at /content/drive\n"
          ]
        }
      ]
    },
    {
      "cell_type": "code",
      "source": [
        "import pandas as pd\n",
        "import os\n",
        "\n",
        "def read_spam():\n",
        "    category = 'spam'\n",
        "    directory = './enron1/spam'\n",
        "    return read_category(category, directory)\n",
        "\n",
        "def read_ham():\n",
        "    category = 'ham'\n",
        "    directory = './enron1/ham'\n",
        "    return read_category(category, directory)\n",
        "\n",
        "def read_category(category, directory):\n",
        "    emails = []\n",
        "    for filename in os.listdir(directory):\n",
        "        if not filename.endswith(\".txt\"):\n",
        "            continue\n",
        "        with open(os.path.join(directory, filename), 'r') as fp:\n",
        "            try:\n",
        "                content = fp.read()\n",
        "                emails.append({'name': filename, 'content': content, 'category': category})\n",
        "            except:\n",
        "                print(f'skipped {filename}')\n",
        "    return emails\n",
        "\n",
        "ham = read_ham()\n",
        "spam = read_spam()\n",
        "\n",
        "df = pd.DataFrame.from_records(ham)\n",
        "df = df.append(pd.DataFrame.from_records(spam))"
      ],
      "metadata": {
        "id": "gQTomDkO8cGl"
      },
      "execution_count": 5,
      "outputs": []
    },
    {
      "cell_type": "code",
      "source": [
        "import re\n",
        "\n",
        "def preprocessor(e):\n",
        "    pass"
      ],
      "metadata": {
        "id": "9hSHsxYk9sQv"
      },
      "execution_count": null,
      "outputs": []
    },
    {
      "cell_type": "code",
      "source": [
        "from sklearn.feature_extraction.text import CountVectorizer\n",
        "from sklearn.model_selection import train_test_split\n",
        "from sklearn.linear_model import LogisticRegression\n",
        "from sklearn.metrics import accuracy_score, confusion_matrix, classification_report"
      ],
      "metadata": {
        "id": "GtA6lsuU9uwa"
      },
      "execution_count": null,
      "outputs": []
    }
  ]
}